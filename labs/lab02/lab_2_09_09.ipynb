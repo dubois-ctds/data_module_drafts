{
 "cells": [
  {
   "cell_type": "code",
   "execution_count": 1,
   "id": "12a88190",
   "metadata": {},
   "outputs": [
    {
     "ename": "SyntaxError",
     "evalue": "invalid syntax (2589470335.py, line 4)",
     "output_type": "error",
     "traceback": [
      "\u001b[1;36m  Cell \u001b[1;32mIn[1], line 4\u001b[1;36m\u001b[0m\n\u001b[1;33m    files:\u001b[0m\n\u001b[1;37m          ^\u001b[0m\n\u001b[1;31mSyntaxError\u001b[0m\u001b[1;31m:\u001b[0m invalid syntax\n"
     ]
    }
   ],
   "source": [
    "# ASSIGNMENT CONFIG\n",
    "init_cell: true \n",
    "export_cell: true \n",
    "files:\n",
    "    - dotplot.png\n",
    "    - dotplot_bomb.png\n",
    "    - desserts.csv\n",
    "    - error.jpg\n",
    "    - gradescope.png\n",
    "    - d8error.py\n",
    "    - errorConfig.json\n",
    "export_cell:\n",
    "    pdf: false\n",
    "    force_save: false\n",
    "solutions_pdf: true\n",
    "template_pdf: false\n",
    "generate:\n",
    "    points_possible: 100\n",
    "    show_stdout: true\n",
    "    zips: false"
   ]
  },
  {
   "cell_type": "code",
   "execution_count": 4,
   "id": "5f04f065",
   "metadata": {},
   "outputs": [],
   "source": [
    "# Don't change this cell; just run it. \n",
    "\n",
    "import numpy as np\n",
    "from datascience import *\n",
    "#import d8error"
   ]
  },
  {
   "cell_type": "markdown",
   "id": "f2c2c7ef",
   "metadata": {},
   "source": [
    "# Lab 2: Expressions\n",
    "\n",
    "Welcome to Lab 2 for Data Science Focused for Social Sciences!  You can't learn technical subjects without hands-on practice, so labs are an important part of the course.\n",
    "\n",
    "Collaborating on labs is more than okay -- it's encouraged! You should rarely remain stuck for more than a few minutes on questions in labs, so ask an instructor or classmate for help. (Explaining things is beneficial, too -- the best way to solidify your knowledge of a subject is to explain it.) Please don't just share answers, though.\n",
    "\n",
    "\n",
    "#### Today's lab\n",
    "\n",
    "In today's lab, you'll learn how to:\n",
    "\n",
    "1. Navigate Jupyter notebooks (like this one);\n",
    "2. Write and evaluate some basic *expressions* in Python, the computer language of the course; and\n",
    "3. Learn some introductory data analysis.\n",
    "\n",
    "This lab covers parts of [Chapter 3](http://www.inferentialthinking.com/chapters/03/programming-in-python.html) of the online textbook. You should read the examples in the book, but not right now. Instead, let's get started!\n",
    "\n",
    "<hr style=\"border: 1px solid #fdb515;\" />"
   ]
  },
  {
   "cell_type": "markdown",
   "id": "155bb1c6",
   "metadata": {},
   "source": [
    "# Part 1: Jupyter Notebooks\n",
    "This webpage is called a Jupyter Notebook. A notebook is a place to write programs and view their results, and also to write text.\n",
    "\n",
    "## Text cells\n",
    "In a notebook, each rectangle containing text or code is called a *cell*.\n",
    "\n",
    "Text cells (like this one) can be edited by double-clicking on them. They're written in a simple format called [Markdown](http://daringfireball.net/projects/markdown/syntax) to add formatting and section headings.  You don't need to learn Markdown, but you might want to.\n",
    "\n",
    "After you edit a text cell, click the \"run cell\" button at the top that looks like ▶| or hold down `shift` + `return` to confirm any changes. (Try not to delete the instructions of the lab.)"
   ]
  },
  {
   "cell_type": "markdown",
   "id": "a1669299",
   "metadata": {},
   "source": [
    "## Computer Programming Fundamentals\n",
    "\n",
    "In computing, **source code** is text (usually plain text) that conforms to a human-readable programming language and specifies the behavior of a computer. A programmer writes code to produce a program that runs on a computer. A **programming script** is a relatively short and simple set of programming source code.\n",
    "\n",
    "**Programming syntax** refers to the set of rules that dictate the structure and format of a programming language. It defines how commands and instructions are written in a way that the computer can understand and execute. Programming syntax defines the correct way to write code in a language so that it can be understood and executed by computers and programming syntax differs between programming languages.\n",
    "\n",
    "\n",
    "The **Python Programming Language** is a popular programming language. It was created by Guido van Rossum, and released in 1991. Python was designed for readability, and has some similarities to the English language with influence from mathematics.\n",
    "\n",
    "Computer program **output** is the information or result produced by a program. Computer program output can be displayed to the user of the computer program as text, images, audio, or video.\n",
    "\n",
    "\n",
    "\n",
    "\n",
    "\n"
   ]
  },
  {
   "cell_type": "markdown",
   "id": "201c2589",
   "metadata": {},
   "source": [
    "---\n",
    "## Coding Examples\n",
    "\n",
    "To better understand coding practices, doing coding exercises is one of the best ways to learn! Here are some practice problems to help familiarize yourself with python.\n",
    "\n",
    "\n",
    "<div class=\"alert alert-info\">\n",
    "Write and Run the code below:\n",
    "</div>\n",
    "\n",
    " print (“Hello, world!”)\n"
   ]
  },
  {
   "cell_type": "code",
   "execution_count": 2,
   "id": "32ee660a",
   "metadata": {},
   "outputs": [],
   "source": [
    "#type code here"
   ]
  },
  {
   "cell_type": "markdown",
   "id": "17d287e2",
   "metadata": {},
   "source": [
    "<div class=\"alert alert-info\">\n",
    "<b>Write and Run the code below:</b>\n",
    "</div>\n",
    "\n",
    "\n",
    "print (1)\n",
    "\n",
    "print(1.0)\n",
    "\n",
    "print (1 + 2)\n",
    "\n",
    "print(1.0 + 2.0)\n",
    "\n",
    "print (“1” + “3”)  \n",
    "\n",
    "print (1 - 3)\n",
    "\n",
    "print (2 * 3)\n",
    "\n",
    "print (2.0 * 3.0)\n",
    "\n",
    "print (2 / 3)\n",
    "\n",
    "print (2.0 / 3.0)\n",
    "\n",
    "print(2 ** 3)\n"
   ]
  },
  {
   "cell_type": "code",
   "execution_count": 1,
   "id": "6b632d41",
   "metadata": {},
   "outputs": [],
   "source": [
    "#type code here"
   ]
  },
  {
   "cell_type": "markdown",
   "id": "474aa404",
   "metadata": {},
   "source": [
    "<div class=\"alert alert-info\">\n",
    "<b>Write and Run the code below:</b>\n",
    "</div>\n",
    "\n",
    "\n",
    "print (“2 + 3 =” , 2 + 3)  "
   ]
  },
  {
   "cell_type": "code",
   "execution_count": 3,
   "id": "f064620e",
   "metadata": {},
   "outputs": [],
   "source": [
    "#type code here"
   ]
  },
  {
   "cell_type": "markdown",
   "id": "34fb1490",
   "metadata": {},
   "source": [
    "<div class=\"alert alert-info\">\n",
    "<dt>Please describe the different output result from [ print (“2 + 3 =” , 2 + 3) ]</dt>\n",
    "</div>\n"
   ]
  },
  {
   "cell_type": "markdown",
   "id": "a732bd9e",
   "metadata": {},
   "source": [
    "*Type your answer here*"
   ]
  },
  {
   "cell_type": "markdown",
   "id": "1ea83517",
   "metadata": {},
   "source": [
    "---\n",
    "\n",
    "The **print() function** outputs the specified text placed inside of the parenthiesis as plain text.\n",
    "\n",
    "**Escape Character** or **Escape Sequence** is a character that invokes an alternative interpretation on the following characters in a character sequence.\n",
    "\n",
    "Escape characters are important to computer programming because keyboard characters can have multiple meaning in programming language syntax.\n",
    "\n",
    "\\t  - Tab \n",
    "\n",
    "\\\\\\ - Backslash\n",
    "\n",
    "\\\\` - Single Quote\n",
    "\n",
    "\\\\\" - Double Quote\n",
    "\n",
    "\\n \" - New Line\n",
    "\n",
    "<br>\n",
    "<div class=\"alert alert-info\">\n",
    "<b>Write and Run the code below:</b>\n",
    "</div>\n",
    "\n",
    "\n",
    "\n",
    "print (\"hello\\tworld\")\n",
    "\n",
    "print (\"\\\\\")\n",
    "\n",
    "print (\"\\’”)\n",
    "\n",
    "print (\"\\\"\")\n",
    "\n",
    "print (\"hello\\nworld\")"
   ]
  },
  {
   "cell_type": "code",
   "execution_count": 4,
   "id": "07521c2c",
   "metadata": {},
   "outputs": [],
   "source": [
    "#type code here"
   ]
  },
  {
   "cell_type": "markdown",
   "id": "de476df3",
   "metadata": {},
   "source": [
    "<hr style=\"border: 1px solid #fdb515;\" />\n",
    "\n",
    "# Part 2: Data Analysis\n",
    "\n",
    "## Overview  - Population, Sample, & Data\n",
    "Data science involves recognizing patterns and making predictions from datasets. The analysis usually starts with a research question. Typically, the research question is something we want to know about a **population**. The population is the entire group we want to know something about. The population may be people, but it may be other things such as vehicles, objects or animals. For example, we may want to answer the questions:\n",
    "1. “What percent of vehicles in the US are hybrid?” (Population: US vehicles).\n",
    "2. “What is the average height of a eucalyptus tree?” (Population: eucalyptus trees)\n",
    "\n",
    "In most cases, the population is a large group. Often, the population is so large that we cannot collect information from every individual in the population, so we select a **sample** from the population. We collect data from this sample. **Data** is information or measurements that will help us answer the research question.\n",
    "\n",
    "The sample needs to represent the population well. For example if we are investigating the heights of eucalyptus trees, we want to be sure not to include any other type of trees in our analysis and we want to be sure to take samples from different regions. \n",
    "\n",
    "To make sense of the data we collect from the sample, we summarize it using graphs and different numerical measures, such as percentages or averages. Datasets contain the data collected and are often organized in table format. \n",
    "\n",
    "Data consist of **individuals** and **variables** that give us information about those individuals. An **individual** can be an object or a person. A **variable** is an attribute, such as a measurement or a label. There are two types of variables: **quantitative** and **categorical**.\n",
    "\n",
    "**Categorical variables** take category or label values and place an individual into one of several groups. Each observation can be placed in only one category, and the categories are mutually exclusive\n",
    "**Quantitative variables** take numerical values and represent some kind of measurement. \n"
   ]
  },
  {
   "cell_type": "markdown",
   "id": "b64c0dc8-105a-45e6-906f-1b1a7312af59",
   "metadata": {},
   "source": [
    "## Coding Examples\n",
    "\n",
    "The table `frozen_desserts.csv`contains data on 20 different frozen dessserts. Each row represents one such frozen dessert.\n",
    "\n",
    "Run the next cell to load the frozen_desserts table and see its output."
   ]
  },
  {
   "cell_type": "code",
   "execution_count": 21,
   "id": "af195502",
   "metadata": {},
   "outputs": [
    {
     "data": {
      "text/html": [
       "<table border=\"1\" class=\"dataframe\">\n",
       "    <thead>\n",
       "        <tr>\n",
       "            <th>Dessert</th> <th>Grams of Sugar</th> <th>Grams of Fat</th> <th>Grams of Protein</th> <th>Calories</th> <th>Type</th> <th>Color</th>\n",
       "        </tr>\n",
       "    </thead>\n",
       "    <tbody>\n",
       "        <tr>\n",
       "            <td>Lemon Italian Ice        </td> <td>10            </td> <td>0           </td> <td>0               </td> <td>120     </td> <td>Italian Ice  </td> <td>Yellow     </td>\n",
       "        </tr>\n",
       "        <tr>\n",
       "            <td>Vanilla Ice Cream        </td> <td>19            </td> <td>10          </td> <td>4               </td> <td>200     </td> <td>Ice Cream    </td> <td>White      </td>\n",
       "        </tr>\n",
       "        <tr>\n",
       "            <td>Chocolate Frozen Yogurt  </td> <td>20            </td> <td>8           </td> <td>3               </td> <td>200     </td> <td>Frozen Yogurt</td> <td>Brown      </td>\n",
       "        </tr>\n",
       "        <tr>\n",
       "            <td>Strawberry Sorbet        </td> <td>19            </td> <td>0           </td> <td>1               </td> <td>180     </td> <td>Sorbet       </td> <td>Pink       </td>\n",
       "        </tr>\n",
       "        <tr>\n",
       "            <td>Mango Sorbet             </td> <td>21            </td> <td>1           </td> <td>2               </td> <td>160     </td> <td>Sorbet       </td> <td>Yellow     </td>\n",
       "        </tr>\n",
       "        <tr>\n",
       "            <td>Blueberry Frozen Yogurt  </td> <td>20            </td> <td>5           </td> <td>3               </td> <td>170     </td> <td>Frozen Yogurt</td> <td>Purple     </td>\n",
       "        </tr>\n",
       "        <tr>\n",
       "            <td>Coconut Gelato           </td> <td>22            </td> <td>18          </td> <td>3               </td> <td>280     </td> <td>Gelato       </td> <td>White      </td>\n",
       "        </tr>\n",
       "        <tr>\n",
       "            <td>Raspberry Sherbet        </td> <td>19            </td> <td>2           </td> <td>1               </td> <td>150     </td> <td>Sherbet      </td> <td>Red        </td>\n",
       "        </tr>\n",
       "        <tr>\n",
       "            <td>Pistachio Ice Cream      </td> <td>14            </td> <td>14          </td> <td>4               </td> <td>240     </td> <td>Ice Cream    </td> <td>Green      </td>\n",
       "        </tr>\n",
       "        <tr>\n",
       "            <td>Cookies and Cream        </td> <td>18            </td> <td>16          </td> <td>4               </td> <td>260     </td> <td>Ice Cream    </td> <td>White/Black</td>\n",
       "        </tr>\n",
       "        <tr>\n",
       "            <td>Neapolitan Ice Cream     </td> <td>22            </td> <td>13          </td> <td>3               </td> <td>230     </td> <td>Ice Cream    </td> <td>Brown/Pink </td>\n",
       "        </tr>\n",
       "        <tr>\n",
       "            <td>Blue Rasperry Sorbet     </td> <td>21            </td> <td>0           </td> <td>0               </td> <td>140     </td> <td>sorbet       </td> <td>Blue       </td>\n",
       "        </tr>\n",
       "        <tr>\n",
       "            <td>Pineapple Sorbet         </td> <td>14            </td> <td>0           </td> <td>1               </td> <td>140     </td> <td>Sorbet       </td> <td>Yellow     </td>\n",
       "        </tr>\n",
       "        <tr>\n",
       "            <td>Tiramisu Gelato          </td> <td>20            </td> <td>22          </td> <td>4               </td> <td>320     </td> <td>Gelato       </td> <td>Brown      </td>\n",
       "        </tr>\n",
       "        <tr>\n",
       "            <td>Chocolate Ice Cream      </td> <td>27            </td> <td>12          </td> <td>3               </td> <td>220     </td> <td>Ice Cream    </td> <td>Brown      </td>\n",
       "        </tr>\n",
       "        <tr>\n",
       "            <td>Cherry Italian Ice       </td> <td>13            </td> <td>0           </td> <td>0               </td> <td>130     </td> <td>Italian Ice  </td> <td>Red        </td>\n",
       "        </tr>\n",
       "        <tr>\n",
       "            <td>Watermelon Sorbet        </td> <td>12            </td> <td>0           </td> <td>1               </td> <td>130     </td> <td>Sorbet       </td> <td>Pink/Green </td>\n",
       "        </tr>\n",
       "        <tr>\n",
       "            <td>Mint Chocolate Chip      </td> <td>30            </td> <td>15          </td> <td>5               </td> <td>250     </td> <td>Ice Cream    </td> <td>Green/Brown</td>\n",
       "        </tr>\n",
       "        <tr>\n",
       "            <td>Blackberry Sherbet       </td> <td>25            </td> <td>1           </td> <td>1               </td> <td>160     </td> <td>Sherbet      </td> <td>Purple     </td>\n",
       "        </tr>\n",
       "        <tr>\n",
       "            <td>Pistachio Gelato         </td> <td>20            </td> <td>17          </td> <td>3               </td> <td>280     </td> <td>Gelato       </td> <td>Green      </td>\n",
       "        </tr>\n",
       "        <tr>\n",
       "            <td>Peanut Butter Ice Cream  </td> <td>26            </td> <td>14          </td> <td>4               </td> <td>260     </td> <td>Ice Cream    </td> <td>Brown      </td>\n",
       "        </tr>\n",
       "        <tr>\n",
       "            <td>Coffee Frozen Yogurt     </td> <td>21            </td> <td>6           </td> <td>3               </td> <td>210     </td> <td>Frozen Yogurt</td> <td>Brown      </td>\n",
       "        </tr>\n",
       "        <tr>\n",
       "            <td>Orange Sorbet            </td> <td>28            </td> <td>0           </td> <td>1               </td> <td>150     </td> <td>Sorbet       </td> <td>Orange     </td>\n",
       "        </tr>\n",
       "        <tr>\n",
       "            <td>Almond Gelato            </td> <td>26            </td> <td>19          </td> <td>3               </td> <td>310     </td> <td>Gelato       </td> <td>Beige      </td>\n",
       "        </tr>\n",
       "        <tr>\n",
       "            <td>Caramel Swirl Ice Cream  </td> <td>20            </td> <td>16          </td> <td>4               </td> <td>270     </td> <td>Ice Cream    </td> <td>Cream      </td>\n",
       "        </tr>\n",
       "        <tr>\n",
       "            <td>Banana Frozen Yogurt     </td> <td>20            </td> <td>7           </td> <td>3               </td> <td>220     </td> <td>Frozen Yogurt</td> <td>Yellow     </td>\n",
       "        </tr>\n",
       "        <tr>\n",
       "            <td>Peach Sorbet             </td> <td>20            </td> <td>0           </td> <td>1               </td> <td>160     </td> <td>Sorbet       </td> <td>Peach      </td>\n",
       "        </tr>\n",
       "        <tr>\n",
       "            <td>Hazelnut Gelato          </td> <td>20            </td> <td>21          </td> <td>3               </td> <td>330     </td> <td>Gelato       </td> <td>Brown      </td>\n",
       "        </tr>\n",
       "        <tr>\n",
       "            <td>Mixed Berry Frozen Yogurt</td> <td>19            </td> <td>5           </td> <td>3               </td> <td>230     </td> <td>Frozen Yogurt</td> <td>Pink/Purple</td>\n",
       "        </tr>\n",
       "        <tr>\n",
       "            <td>Green Tea Sorbet         </td> <td>20            </td> <td>0           </td> <td>1               </td> <td>140     </td> <td>Sorbet       </td> <td>Green      </td>\n",
       "        </tr>\n",
       "    </tbody>\n",
       "</table>"
      ],
      "text/plain": [
       "<IPython.core.display.HTML object>"
      ]
     },
     "metadata": {},
     "output_type": "display_data"
    }
   ],
   "source": [
    "# Just run this cell\n",
    "frozen_desserts = Table.read_table('desserts.csv')\n",
    "frozen_desserts.show()"
   ]
  },
  {
   "cell_type": "markdown",
   "id": "c3435b88",
   "metadata": {},
   "source": [
    "<div class=\"alert alert-info\">   \n",
    "<b>Use the print function to answer the following questions:  </b>\n",
    "</div>\n",
    "\n",
    "1. Use print() to output the individuals in the dataset?****\n",
    "2. Use print() to output the column names of the categorical variables in the dataset?\n",
    "3. Use print() to output the column names of the quantitative variables in the dataset?\n",
    "4. Would you consider this Data Set a sample of frozen desserts or the entire population of frozen desserts?"
   ]
  },
  {
   "cell_type": "code",
   "execution_count": null,
   "id": "b9720b18",
   "metadata": {},
   "outputs": [],
   "source": [
    "#Type your answer here\n"
   ]
  },
  {
   "cell_type": "markdown",
   "id": "187d1742",
   "metadata": {},
   "source": [
    "<div class=\"alert alert-info\">\n",
    "<b>Write a programming script using the print() function. Output 6 Desserts and the coresponding Grams of Sugar associated with each Dessert. Utilize as many print() functions as necessary.</b>\n",
    "\n",
    "Hint: Each Dessert Corresponds to a row of the table of the data set. \n",
    "\n",
    "</div>\n",
    "\n",
    "\n",
    "\n",
    "\n",
    "**Expected Sample Output:**\n",
    "\n",
    "Lemon Italian Ice 10 Grams of Sugar\n",
    "\n",
    "Vanilla Ice Cream 19 Grams of Sugar\n",
    "\n",
    "Chocolate Frozen Yogurt 20 Grams of Sugar\n",
    "\n",
    "Coconut Gelato 22 Grams of Sugar\n",
    "\n",
    "Raspberry Sherbet 19 Grams of Sugar\n",
    "\n",
    "Cookies and Cream 18 Grams of Sugar"
   ]
  },
  {
   "cell_type": "code",
   "execution_count": null,
   "id": "11655905-f37d-4493-8c76-b1aaa2412a56",
   "metadata": {},
   "outputs": [],
   "source": [
    "#Type your answer here"
   ]
  },
  {
   "cell_type": "markdown",
   "id": "370344e6",
   "metadata": {},
   "source": [
    "<div class=\"alert alert-info\">\n",
    "<b>Used Escape Characters to produce the same ouput with one print</b>\n",
    "</div>"
   ]
  },
  {
   "cell_type": "code",
   "execution_count": 1,
   "id": "c9732f6e-0938-4d61-b58f-c2dbcbddbad0",
   "metadata": {},
   "outputs": [],
   "source": [
    "#Type your answer here"
   ]
  },
  {
   "attachments": {},
   "cell_type": "markdown",
   "id": "1058dd44",
   "metadata": {},
   "source": [
    "<hr style=\"border: 1px solid #fdb515;\" />\n",
    "\n",
    "# Part 3: Visualizations Introduction\n",
    "\n",
    "## Graph  - Dotplot\n",
    "In data analysis, our goal is to describe patterns in the data and create a useful summary about a group. A table is not a useful way to view data because patterns are hard to see in a table. Thus, creating a graph of the distribution of the variable is usually the first step in data analysis.\n",
    "\n",
    "One type of graph is called a **dotplot**. A **dotplot** gives a better summary of the distribution of grams of sugar. In a dotplot, each dot represents one individual. Let's look at the dotplot of the frozen desserts.\n",
    "\n",
    "<details>\n",
    "    <summary>Example Dotplot</summary>\n",
    "    <img src=\"https://github.com/dubois-ctds/data_module_drafts/blob/main/labs/lab02/images/dotplot.png?raw=true\" width=\"700\">\n",
    "</details>\n",
    "\n",
    "Here, each dot is a frozen dessert. The numbers on the horizontal axis are the variable values. The variable in this case is sugar in grams per serving. The vertical axis gives the count of desserts. \n",
    "\n",
    "In a dotplot we can see the variable values and how many individuals have each value. For example, 2 frozen desserts have 19 grams of sugar and 3 frozen desserts have 21 grams of sugar."
   ]
  },
  {
   "cell_type": "markdown",
   "id": "bc42fde1",
   "metadata": {},
   "source": [
    "<div class=\"alert alert-info\">\n",
    "<b>Answer the following questions with True or False about the distribution of frozen desserts</b>\n",
    "\n",
    "</div>\n",
    "\n",
    "1. The sugar content for these frozen desserts range from 10 to 29 grams.        \n",
    "2. For this group of desserts, typical sugar content ranges from 14 years to 30 grams\n",
    "3. More than half of the frozen desserts have over 20 grams of sugar.\n",
    "4. It is unusual for one of frozen desserts to have more than 25 grams of sugar."
   ]
  },
  {
   "cell_type": "code",
   "execution_count": null,
   "id": "83892397",
   "metadata": {},
   "outputs": [],
   "source": [
    "#Type your answer here"
   ]
  },
  {
   "cell_type": "markdown",
   "id": "eb293cad",
   "metadata": {},
   "source": [
    "## Shape, Center and Spread\n",
    "\n",
    "When we describe patterns in data, we use descriptions of **shape, center, and spread**. We also describe exceptions to the pattern. We call these exceptions **outliers**. Outliers are notably deviations from the trend.\n",
    "\n",
    "### Shape \n",
    "\n",
    "<table>\n",
    "    <tr>\n",
    "        <td>\n",
    "            <img src=\"https://github.com/dubois-ctds/data_module_drafts/blob/main/labs/lab02/images/right_skew_dist.png?raw=true\" style=\"width:70%\">\n",
    "        </td>\n",
    "        <td>\n",
    "            <img src=\"https://github.com/dubois-ctds/data_module_drafts/blob/main/labs/lab02/images/left_skew_dist.png?raw=true\" style=\"width:66%\">\n",
    "        </td>\n",
    "        <td>\n",
    "            <img src=\"https://github.com/dubois-ctds/data_module_drafts/blob/main/labs/lab02/images/sym_dist.png?raw=true\" style=\"width:70%\">\n",
    "        </td>\n",
    "        <td>\n",
    "            <img src=\"https://github.com/dubois-ctds/data_module_drafts/blob/main/labs/lab02/images/unif_dist.png?raw=true\" style=\"width:69%\">\n",
    "        </td>\n",
    "    </tr>\n",
    "</table>\n",
    "\n",
    "Common descriptions of shape are: \n",
    "\n",
    "A **right-skewed distribution** has a lot of data at lower variable values with smaller amounts of data at higher variable values. Data cluster on the left of the distribution with a tail of data tapering off to the right. \n",
    "    \n",
    "A **left skewed distribution** has a lot of data at higher variable values with smaller amounts of data at lower variable values. Data cluster on the right of the distribution with a tail of data tapering off to the left. \n",
    "\t\n",
    "A **Symmetric (or bell-shaped) distribution** has a central peak where data is concentrated, with a tail in both directions.\n",
    "\t\n",
    "A **uniform distribution** has the same amount of data for each value. So the distribution looks rectangular.\n",
    "    \n",
    "### Center\n",
    "\n",
    "When we describe a distribution of a quantitative variable, it is helpful to identify a typical value. We choose a single value of the variable to represent the entire group. This is one way to think about the center of the distribution.\n",
    "    \n",
    "### Spread\n",
    "\n",
    "We also want to describe how much the data varies among individuals in the group. Variability is another word for spread. We describe the spread in two ways:\n",
    "\n",
    "1. Find the range of the data, by looking at the smallest value and the largest value.\n",
    "2. Find the interval of typical values to represent common variable values for the group."
   ]
  },
  {
   "cell_type": "markdown",
   "id": "818b1e6d",
   "metadata": {},
   "source": [
    "<div class=\"alert alert-info\">\n",
    "<b>Look back at the dotplot of the frozen desserts. Use the print function to output the following: Make sure to ouptut the answer as a complete sentence.</b>\n",
    "</div>\n",
    "\n",
    "1. Identify the shape of the distribution of frozen desserts.\n",
    "2. Identify the center of the distribution of frozen desserts. \n",
    "3. Identify the range of the distribution of frozen desserts.\n",
    "4. Identify the interval of typical values of the distribution of frozen desserts. \n",
    "5. Identify any outliers in the distribution of frozen desserts."
   ]
  },
  {
   "cell_type": "code",
   "execution_count": null,
   "id": "4e7a8029",
   "metadata": {},
   "outputs": [],
   "source": [
    "#Type your answer here"
   ]
  },
  {
   "cell_type": "markdown",
   "id": "4ec932fb-87db-496d-a407-42747766dd08",
   "metadata": {},
   "source": [
    "<div class=\"alert alert-info\">\n",
    "<b>Produce the same output as question 3.2 but in only 1 print() function.</b>\n",
    "</div>"
   ]
  },
  {
   "cell_type": "code",
   "execution_count": 7,
   "id": "bff8d682-f735-4fe1-b172-76c38a07a9bf",
   "metadata": {},
   "outputs": [],
   "source": [
    "#Type your answer here"
   ]
  },
  {
   "cell_type": "markdown",
   "id": "9fdef03f",
   "metadata": {},
   "source": [
    "##  Measuring Center\n",
    "\n",
    "One measure of center is the **average** or **mean**. This is found by adding all the data values in the distribution and dividing by the total number of values. We usually use the mean as a measure of center when the distribution is symmetrical.\n",
    "\n",
    "Another measure of center is the **median**. The median is the middle of the data when all the values are listed in order. The median divides the data into two equal-sized groups. There is as much data below the median as above it.\n",
    "If the dataset has an even number of values, the median is found by adding the 2 middle numbers and dividing by 2. We usually use the mean as a measure of center when the distribution is skewed."
   ]
  },
  {
   "cell_type": "markdown",
   "id": "cb02726a",
   "metadata": {},
   "source": [
    "<div class=\"alert alert-info\">\n",
    "<b>Answer the following questions:</b>\n",
    "</div>\n",
    "\n",
    "1. Use the print() function to calculate and output the mean for the Grams of Sugar Column of the Frozen Desserts dataset.\n",
    "2. Use the print() function to output the median for the Grams of Sugar Column of the Frozen Desserts dataset.\n",
    "3. Use the print() function to output the better measure of center for the Grams of Sugar Column of the Frozen Desserts dataset, mean or median? Be sure to include a sentence supporting your answer"
   ]
  },
  {
   "cell_type": "code",
   "execution_count": null,
   "id": "6574299c",
   "metadata": {},
   "outputs": [],
   "source": [
    "#Type your answer here"
   ]
  },
  {
   "attachments": {},
   "cell_type": "markdown",
   "id": "0e366208",
   "metadata": {},
   "source": [
    "Now let's assume a \"Super Sugar bomb\" ice cream is added to our frozen desserts dataset. This ice cream has 100 grams of sugar. Here's the updated dotplot.\n",
    "\n",
    "<details>\n",
    "    <summary>Updated Dotplot</summary>\n",
    "    <img src=\"https://github.com/dubois-ctds/data_module_drafts/blob/main/labs/lab02/images/updated_dotplot.png?raw=true\" width=\"1000\">\n",
    "</details>"
   ]
  },
  {
   "cell_type": "markdown",
   "id": "9d174f6e",
   "metadata": {},
   "source": [
    "<div class=\"alert alert-info\">\n",
    "<b>Answer the following questions:</b>\n",
    "</div>\n",
    "\n",
    "1. Use the print() function to calculate and output the mean for the Grams of Sugar Column of the Frozen Desserts dataset.\n",
    "2. Use the print() function to output the median for the Grams of Sugar Column of the Frozen Desserts dataset.\n",
    "3. Use the print() function to output the better measure of center for the Grams of Sugar Column of the Frozen Desserts dataset, mean or median? Be sure to include a sentence supporting your answer"
   ]
  },
  {
   "cell_type": "code",
   "execution_count": null,
   "id": "4c6622cf",
   "metadata": {},
   "outputs": [],
   "source": [
    "#Type your answer here"
   ]
  },
  {
   "cell_type": "markdown",
   "id": "b1318189",
   "metadata": {},
   "source": [
    "<hr style=\"border: 1px solid #fdb515;\" />\n",
    "\n",
    "# Part 4: Programming Keywords and Practice\n",
    "\n",
    "\n",
    "<dl>\n",
    "<dt>Here are some keyword references from Lecture or Online resources:</dt>\n",
    "</dl>\n",
    "\n",
    "\n",
    "<ul>\n",
    "  <li>Programming Data Types</li>\n",
    "  <li>Integer</li>\n",
    "  <li>Float</li>\n",
    "  <li>String</li>\n",
    "  <li>Boolean</li>\n",
    "  <li>None</li>\n",
    "  <li>Programming Variables (Data Containers)</li>\n",
    "  <li>(=) Assignment Operator </li>\n",
    "  <li>Programming Comment</li>\n",
    "</ul>\n",
    "\n",
    "<div class=\"alert alert-info\">      \n",
    "<b>Write and Run the code below:</b>\n",
    "\n",
    "Also, Add a programming comment labeling the variables in the source code.\n",
    "</div>\n",
    "\n",
    "\n",
    "\n",
    "x = 30\n",
    "\n",
    "y = 10\n",
    "\n",
    "print(x + y)\n",
    "\n",
    "print(x – y)\n",
    "\n",
    "print(x / y)\n",
    "\n",
    "print(x * y)\n",
    "\n",
    "print(\"x + y =\", x+y)"
   ]
  },
  {
   "cell_type": "code",
   "execution_count": 11,
   "id": "6de17645",
   "metadata": {},
   "outputs": [],
   "source": [
    "#Type your answer here"
   ]
  },
  {
   "cell_type": "markdown",
   "id": "e820f963",
   "metadata": {},
   "source": [
    "---\n",
    "\n",
    "## More Programming and Output Practice\n",
    "       \n",
    "<div class=\"alert alert-info\">   \n",
    "<b>Write and Run the code below:</b>\n",
    "</div>\n",
    "\n",
    "num = 10\n",
    "\n",
    "print(num)\n",
    "\n",
    "print(“num =” + 10)\n"
   ]
  },
  {
   "cell_type": "code",
   "execution_count": 22,
   "id": "f856ee59",
   "metadata": {},
   "outputs": [
    {
     "name": "stdout",
     "output_type": "stream",
     "text": [
      "10\n"
     ]
    },
    {
     "ename": "TypeError",
     "evalue": "can only concatenate str (not \"int\") to str",
     "output_type": "error",
     "traceback": [
      "\u001b[1;31m---------------------------------------------------------------------------\u001b[0m",
      "\u001b[1;31mTypeError\u001b[0m                                 Traceback (most recent call last)",
      "Cell \u001b[1;32mIn[22], line 3\u001b[0m\n\u001b[0;32m      1\u001b[0m num \u001b[38;5;241m=\u001b[39m \u001b[38;5;241m10\u001b[39m\n\u001b[0;32m      2\u001b[0m \u001b[38;5;28mprint\u001b[39m(num)\n\u001b[1;32m----> 3\u001b[0m \u001b[38;5;28mprint\u001b[39m(\u001b[38;5;124;43m\"\u001b[39;49m\u001b[38;5;124;43mnum =\u001b[39;49m\u001b[38;5;124;43m\"\u001b[39;49m\u001b[43m \u001b[49m\u001b[38;5;241;43m+\u001b[39;49m\u001b[43m \u001b[49m\u001b[38;5;241;43m10\u001b[39;49m)\n",
      "\u001b[1;31mTypeError\u001b[0m: can only concatenate str (not \"int\") to str"
     ]
    }
   ],
   "source": [
    "num = 10\n",
    "print(num)\n",
    "print(\"num =\" + 10)"
   ]
  },
  {
   "cell_type": "markdown",
   "id": "6ce5413c",
   "metadata": {},
   "source": [
    "<div class=\"alert alert-info\">   \n",
    "<b>Please describe why an error occured</b>\n",
    "</div>"
   ]
  },
  {
   "cell_type": "markdown",
   "id": "7a1eaed5-b425-445e-a796-fd18b9825b41",
   "metadata": {},
   "source": [
    "*Type your answer here*"
   ]
  },
  {
   "cell_type": "markdown",
   "id": "8eda35c8",
   "metadata": {},
   "source": [
    "<div class=\"alert alert-info\">   \n",
    "<b>Write and Run the code below:</b>\n",
    "</div>\n",
    "\n",
    "num = 10\n",
    "\n",
    "print(num)\n",
    "\n",
    "print (“num = “ , num)\n",
    "\n",
    "print(“num =”   + str(num))\n",
    "\n",
    "\n",
    "message = “I love to code “\n",
    "\n",
    "print(message + “ everyday “)\n"
   ]
  },
  {
   "cell_type": "code",
   "execution_count": 9,
   "id": "f54abc89",
   "metadata": {},
   "outputs": [],
   "source": [
    "#Type your answer here"
   ]
  },
  {
   "cell_type": "markdown",
   "id": "694c39b7",
   "metadata": {},
   "source": [
    "<div class=\"alert alert-info\">   \n",
    "<b>Please describe the process for formatting output and data type alignment.</b>\n",
    "</div>"
   ]
  },
  {
   "cell_type": "markdown",
   "id": "8cf4c7c4-d782-4bb2-b125-14c1fca28e5d",
   "metadata": {},
   "source": [
    "*Type your answer here*"
   ]
  },
  {
   "cell_type": "markdown",
   "id": "33ab5088",
   "metadata": {},
   "source": [
    "---\n",
    "\n",
    "## More Programming Keywords\n",
    "\n",
    "Here are more keywords that are referenced in the Lecture:\n",
    "<ul>\n",
    "  <li>Built in Functions</li>\n",
    "  <li>int()</li>\n",
    "  <li>float()</li>\n",
    "  <li> str()</li>\n",
    "  <li>sum()</li>\n",
    "  <li>sorted()</li>\n",
    "  <li> help()</li> \n",
    "   \n",
    "</ul>\n",
    "\n",
    "   \n",
    "The help() built in function is for interactive use.\n",
    "\n",
    "Place the name of built-in function or Python keyword inside of the paranthesis.\n",
    "\n",
    "\n",
    " <dl>\n",
    "<dt>Write and Run the code below:</dt>\n",
    "</dl>\n",
    "\n",
    "help(print) <br>\n",
    "help(sum) <br>\n",
    "help(int)<br>\n",
    "help(float)<br>\n",
    "help(str)\n",
    "    "
   ]
  },
  {
   "cell_type": "code",
   "execution_count": 6,
   "id": "dec34a21",
   "metadata": {},
   "outputs": [
    {
     "name": "stdout",
     "output_type": "stream",
     "text": [
      "Help on built-in function print in module builtins:\n",
      "\n",
      "print(...)\n",
      "    print(value, ..., sep=' ', end='\\n', file=sys.stdout, flush=False)\n",
      "    \n",
      "    Prints the values to a stream, or to sys.stdout by default.\n",
      "    Optional keyword arguments:\n",
      "    file:  a file-like object (stream); defaults to the current sys.stdout.\n",
      "    sep:   string inserted between values, default a space.\n",
      "    end:   string appended after the last value, default a newline.\n",
      "    flush: whether to forcibly flush the stream.\n",
      "\n",
      "Help on built-in function sum in module builtins:\n",
      "\n",
      "sum(iterable, /, start=0)\n",
      "    Return the sum of a 'start' value (default: 0) plus an iterable of numbers\n",
      "    \n",
      "    When the iterable is empty, return the start value.\n",
      "    This function is intended specifically for use with numeric values and may\n",
      "    reject non-numeric types.\n",
      "\n",
      "Help on class int in module builtins:\n",
      "\n",
      "class int(object)\n",
      " |  int([x]) -> integer\n",
      " |  int(x, base=10) -> integer\n",
      " |  \n",
      " |  Convert a number or string to an integer, or return 0 if no arguments\n",
      " |  are given.  If x is a number, return x.__int__().  For floating point\n",
      " |  numbers, this truncates towards zero.\n",
      " |  \n",
      " |  If x is not a number or if base is given, then x must be a string,\n",
      " |  bytes, or bytearray instance representing an integer literal in the\n",
      " |  given base.  The literal can be preceded by '+' or '-' and be surrounded\n",
      " |  by whitespace.  The base defaults to 10.  Valid bases are 0 and 2-36.\n",
      " |  Base 0 means to interpret the base from the string as an integer literal.\n",
      " |  >>> int('0b100', base=0)\n",
      " |  4\n",
      " |  \n",
      " |  Built-in subclasses:\n",
      " |      bool\n",
      " |  \n",
      " |  Methods defined here:\n",
      " |  \n",
      " |  __abs__(self, /)\n",
      " |      abs(self)\n",
      " |  \n",
      " |  __add__(self, value, /)\n",
      " |      Return self+value.\n",
      " |  \n",
      " |  __and__(self, value, /)\n",
      " |      Return self&value.\n",
      " |  \n",
      " |  __bool__(self, /)\n",
      " |      True if self else False\n",
      " |  \n",
      " |  __ceil__(...)\n",
      " |      Ceiling of an Integral returns itself.\n",
      " |  \n",
      " |  __divmod__(self, value, /)\n",
      " |      Return divmod(self, value).\n",
      " |  \n",
      " |  __eq__(self, value, /)\n",
      " |      Return self==value.\n",
      " |  \n",
      " |  __float__(self, /)\n",
      " |      float(self)\n",
      " |  \n",
      " |  __floor__(...)\n",
      " |      Flooring an Integral returns itself.\n",
      " |  \n",
      " |  __floordiv__(self, value, /)\n",
      " |      Return self//value.\n",
      " |  \n",
      " |  __format__(self, format_spec, /)\n",
      " |      Default object formatter.\n",
      " |  \n",
      " |  __ge__(self, value, /)\n",
      " |      Return self>=value.\n",
      " |  \n",
      " |  __getattribute__(self, name, /)\n",
      " |      Return getattr(self, name).\n",
      " |  \n",
      " |  __getnewargs__(self, /)\n",
      " |  \n",
      " |  __gt__(self, value, /)\n",
      " |      Return self>value.\n",
      " |  \n",
      " |  __hash__(self, /)\n",
      " |      Return hash(self).\n",
      " |  \n",
      " |  __index__(self, /)\n",
      " |      Return self converted to an integer, if self is suitable for use as an index into a list.\n",
      " |  \n",
      " |  __int__(self, /)\n",
      " |      int(self)\n",
      " |  \n",
      " |  __invert__(self, /)\n",
      " |      ~self\n",
      " |  \n",
      " |  __le__(self, value, /)\n",
      " |      Return self<=value.\n",
      " |  \n",
      " |  __lshift__(self, value, /)\n",
      " |      Return self<<value.\n",
      " |  \n",
      " |  __lt__(self, value, /)\n",
      " |      Return self<value.\n",
      " |  \n",
      " |  __mod__(self, value, /)\n",
      " |      Return self%value.\n",
      " |  \n",
      " |  __mul__(self, value, /)\n",
      " |      Return self*value.\n",
      " |  \n",
      " |  __ne__(self, value, /)\n",
      " |      Return self!=value.\n",
      " |  \n",
      " |  __neg__(self, /)\n",
      " |      -self\n",
      " |  \n",
      " |  __or__(self, value, /)\n",
      " |      Return self|value.\n",
      " |  \n",
      " |  __pos__(self, /)\n",
      " |      +self\n",
      " |  \n",
      " |  __pow__(self, value, mod=None, /)\n",
      " |      Return pow(self, value, mod).\n",
      " |  \n",
      " |  __radd__(self, value, /)\n",
      " |      Return value+self.\n",
      " |  \n",
      " |  __rand__(self, value, /)\n",
      " |      Return value&self.\n",
      " |  \n",
      " |  __rdivmod__(self, value, /)\n",
      " |      Return divmod(value, self).\n",
      " |  \n",
      " |  __repr__(self, /)\n",
      " |      Return repr(self).\n",
      " |  \n",
      " |  __rfloordiv__(self, value, /)\n",
      " |      Return value//self.\n",
      " |  \n",
      " |  __rlshift__(self, value, /)\n",
      " |      Return value<<self.\n",
      " |  \n",
      " |  __rmod__(self, value, /)\n",
      " |      Return value%self.\n",
      " |  \n",
      " |  __rmul__(self, value, /)\n",
      " |      Return value*self.\n",
      " |  \n",
      " |  __ror__(self, value, /)\n",
      " |      Return value|self.\n",
      " |  \n",
      " |  __round__(...)\n",
      " |      Rounding an Integral returns itself.\n",
      " |      \n",
      " |      Rounding with an ndigits argument also returns an integer.\n",
      " |  \n",
      " |  __rpow__(self, value, mod=None, /)\n",
      " |      Return pow(value, self, mod).\n",
      " |  \n",
      " |  __rrshift__(self, value, /)\n",
      " |      Return value>>self.\n",
      " |  \n",
      " |  __rshift__(self, value, /)\n",
      " |      Return self>>value.\n",
      " |  \n",
      " |  __rsub__(self, value, /)\n",
      " |      Return value-self.\n",
      " |  \n",
      " |  __rtruediv__(self, value, /)\n",
      " |      Return value/self.\n",
      " |  \n",
      " |  __rxor__(self, value, /)\n",
      " |      Return value^self.\n",
      " |  \n",
      " |  __sizeof__(self, /)\n",
      " |      Returns size in memory, in bytes.\n",
      " |  \n",
      " |  __sub__(self, value, /)\n",
      " |      Return self-value.\n",
      " |  \n",
      " |  __truediv__(self, value, /)\n",
      " |      Return self/value.\n",
      " |  \n",
      " |  __trunc__(...)\n",
      " |      Truncating an Integral returns itself.\n",
      " |  \n",
      " |  __xor__(self, value, /)\n",
      " |      Return self^value.\n",
      " |  \n",
      " |  as_integer_ratio(self, /)\n",
      " |      Return integer ratio.\n",
      " |      \n",
      " |      Return a pair of integers, whose ratio is exactly equal to the original int\n",
      " |      and with a positive denominator.\n",
      " |      \n",
      " |      >>> (10).as_integer_ratio()\n",
      " |      (10, 1)\n",
      " |      >>> (-10).as_integer_ratio()\n",
      " |      (-10, 1)\n",
      " |      >>> (0).as_integer_ratio()\n",
      " |      (0, 1)\n",
      " |  \n",
      " |  bit_count(self, /)\n",
      " |      Number of ones in the binary representation of the absolute value of self.\n",
      " |      \n",
      " |      Also known as the population count.\n",
      " |      \n",
      " |      >>> bin(13)\n",
      " |      '0b1101'\n",
      " |      >>> (13).bit_count()\n",
      " |      3\n",
      " |  \n",
      " |  bit_length(self, /)\n",
      " |      Number of bits necessary to represent self in binary.\n",
      " |      \n",
      " |      >>> bin(37)\n",
      " |      '0b100101'\n",
      " |      >>> (37).bit_length()\n",
      " |      6\n",
      " |  \n",
      " |  conjugate(...)\n",
      " |      Returns self, the complex conjugate of any int.\n",
      " |  \n",
      " |  to_bytes(self, /, length, byteorder, *, signed=False)\n",
      " |      Return an array of bytes representing an integer.\n",
      " |      \n",
      " |      length\n",
      " |        Length of bytes object to use.  An OverflowError is raised if the\n",
      " |        integer is not representable with the given number of bytes.\n",
      " |      byteorder\n",
      " |        The byte order used to represent the integer.  If byteorder is 'big',\n",
      " |        the most significant byte is at the beginning of the byte array.  If\n",
      " |        byteorder is 'little', the most significant byte is at the end of the\n",
      " |        byte array.  To request the native byte order of the host system, use\n",
      " |        `sys.byteorder' as the byte order value.\n",
      " |      signed\n",
      " |        Determines whether two's complement is used to represent the integer.\n",
      " |        If signed is False and a negative integer is given, an OverflowError\n",
      " |        is raised.\n",
      " |  \n",
      " |  ----------------------------------------------------------------------\n",
      " |  Class methods defined here:\n",
      " |  \n",
      " |  from_bytes(bytes, byteorder, *, signed=False) from builtins.type\n",
      " |      Return the integer represented by the given array of bytes.\n",
      " |      \n",
      " |      bytes\n",
      " |        Holds the array of bytes to convert.  The argument must either\n",
      " |        support the buffer protocol or be an iterable object producing bytes.\n",
      " |        Bytes and bytearray are examples of built-in objects that support the\n",
      " |        buffer protocol.\n",
      " |      byteorder\n",
      " |        The byte order used to represent the integer.  If byteorder is 'big',\n",
      " |        the most significant byte is at the beginning of the byte array.  If\n",
      " |        byteorder is 'little', the most significant byte is at the end of the\n",
      " |        byte array.  To request the native byte order of the host system, use\n",
      " |        `sys.byteorder' as the byte order value.\n",
      " |      signed\n",
      " |        Indicates whether two's complement is used to represent the integer.\n",
      " |  \n",
      " |  ----------------------------------------------------------------------\n",
      " |  Static methods defined here:\n",
      " |  \n",
      " |  __new__(*args, **kwargs) from builtins.type\n",
      " |      Create and return a new object.  See help(type) for accurate signature.\n",
      " |  \n",
      " |  ----------------------------------------------------------------------\n",
      " |  Data descriptors defined here:\n",
      " |  \n",
      " |  denominator\n",
      " |      the denominator of a rational number in lowest terms\n",
      " |  \n",
      " |  imag\n",
      " |      the imaginary part of a complex number\n",
      " |  \n",
      " |  numerator\n",
      " |      the numerator of a rational number in lowest terms\n",
      " |  \n",
      " |  real\n",
      " |      the real part of a complex number\n",
      "\n"
     ]
    }
   ],
   "source": [
    "help(print)\n",
    "help(int)\n",
    "help(float)\n",
    "help(str)\n",
    "help(sum)\n",
    "help(sorted)"
   ]
  },
  {
   "cell_type": "markdown",
   "id": "f7a56a3b",
   "metadata": {},
   "source": [
    "<div class=\"alert alert-info\">   \n",
    "<b>Write and Run the code below:</b>\n",
    "</div>\n",
    "\n",
    "help(sum) <br>\n",
    "help(sorted)<br>\n",
    "\n",
    "    "
   ]
  },
  {
   "cell_type": "code",
   "execution_count": 10,
   "id": "89cf7acb",
   "metadata": {},
   "outputs": [],
   "source": [
    "#Type your answer here"
   ]
  },
  {
   "cell_type": "markdown",
   "id": "3d023832",
   "metadata": {},
   "source": [
    "<div class=\"alert alert-info\">   \n",
    "<b>Please describe the output from help</b>\n",
    "</div>"
   ]
  },
  {
   "cell_type": "markdown",
   "id": "f89bb94a-9872-4483-9dd3-d87fbe86202f",
   "metadata": {},
   "source": [
    "*Type your answer here*"
   ]
  },
  {
   "cell_type": "markdown",
   "id": "bc410c1e",
   "metadata": {},
   "source": [
    "The values produced by built-in functions can be assigned to variables.\n",
    " \n",
    "<div class=\"alert alert-info\">   \n",
    "<b>Write and Run the code below:</b>\n",
    "</div>\n",
    " \n",
    " x = int(4.0)\n",
    " \n",
    " print(x)\n",
    " \n",
    " x = float(4)\n",
    " \n",
    " print(x)\n",
    " \n",
    " x = str(4)\n",
    " \n",
    " print(x)"
   ]
  },
  {
   "cell_type": "code",
   "execution_count": 12,
   "id": "a00bd03a",
   "metadata": {},
   "outputs": [],
   "source": [
    "#Type your answer here"
   ]
  },
  {
   "cell_type": "markdown",
   "id": "00eb15e9-58f9-443b-8ed3-5e5be01302f8",
   "metadata": {},
   "source": [
    "<div class=\"alert alert-info\">   \n",
    "<b>Describe the outputs produced by the built-in functions above.</b>\n",
    "</div>"
   ]
  },
  {
   "cell_type": "markdown",
   "id": "a85682ed-6ff1-46e3-91a8-d50f3248b8ba",
   "metadata": {},
   "source": [
    "*Type your answer here*"
   ]
  },
  {
   "cell_type": "markdown",
   "id": "92168939",
   "metadata": {},
   "source": [
    "---\n",
    "\n",
    "## Additional Programming Keywords\n",
    "\n",
    "Here are additional keywords that are referenced in the Lecture:\n",
    "\n",
    "<ul>\n",
    "  <li>Objects</li>\n",
    "  <li>Data Structures</li>\n",
    "  <li>Python List</li>\n",
    "\n",
    "</ul>\n",
    "\n",
    "<div class=\"alert alert-info\">   \n",
    "<b>Write and Run the code below:</b>\n",
    "\n",
    "Also, Add a programming comment labeling the variables in the source code.\n",
    "</div>\n",
    "\n",
    "sample = [25,34, 100, 900, 200, 50]\n",
    "<br>\n",
    "print(sample)\n",
    "\n"
   ]
  },
  {
   "cell_type": "code",
   "execution_count": 13,
   "id": "1f397d2b",
   "metadata": {},
   "outputs": [],
   "source": [
    "#Type your answer here"
   ]
  },
  {
   "cell_type": "markdown",
   "id": "2f06c547-0276-4724-862d-eb6854c20956",
   "metadata": {},
   "source": [
    "## Sum a list\n",
    "\n",
    "A list of numbers can be added together using the built-in sum() function\n",
    "\n",
    "*Example:*\n",
    "\n",
    "x = sum([2,4,6,8])\n",
    "\n",
    "print(x)\n",
    "\n",
    "would output 20.\n",
    "\n",
    "<div class=\"alert alert-info\">   \n",
    "<b>Write and run the code below by using the sum() function</b>\n",
    "</div>\n",
    "\n",
    "sample = [25, 34, 100, 900, 200, 50]\n",
    "\n",
    "print(sample)"
   ]
  },
  {
   "cell_type": "code",
   "execution_count": null,
   "id": "2765bf0c-2313-4403-9b86-57623b403dab",
   "metadata": {},
   "outputs": [],
   "source": [
    "#Type your answer here"
   ]
  },
  {
   "cell_type": "markdown",
   "id": "fa5563a2",
   "metadata": {},
   "source": [
    "## Mean Average Review\n",
    "\n",
    "<dl>\n",
    "<dt>A mean average can be caluclated in many ways using Python. Update code to utilize sum + list to sum values from the previous problem\n",
    "</dt>\n",
    "    <dt> \n",
    "</dt>\n",
    "</dl>\n",
    "\n",
    "*Example:*\n",
    "\n",
    "x = sum([2, 4, 6, 8])\n",
    "\n",
    "mean_avg = x / 4\n",
    "\n",
    "print(mean_avg)\n",
    "\n",
    "\n",
    "<div class=\"alert alert-info\">  \n",
    "<b>Write and Run the code below: (Output the Mean of the list below using the sum() function) </b>\n",
    "</div>\n",
    "\n",
    "sample = [25, 34, 100, 900, 200, 50]\n",
    "\n",
    "print(sample)"
   ]
  },
  {
   "cell_type": "code",
   "execution_count": 14,
   "id": "1cda524b",
   "metadata": {},
   "outputs": [],
   "source": [
    "#Type your answer here"
   ]
  },
  {
   "cell_type": "markdown",
   "id": "695bcdaa-5831-459c-9f49-594f64209619",
   "metadata": {},
   "source": [
    "<div class=\"alert alert-info\">  \n",
    "<b>Write and Run the code below: (Output the Mean of the list below using the sum() function) </b>\n",
    "</div>\n",
    "\n",
    "sample_2 = [-166.0, 1000.67, 5000.23, 98753.5, -1150.98, 230.2, 1.5]\n",
    "\n",
    "print(sample_2)"
   ]
  },
  {
   "cell_type": "code",
   "execution_count": 5,
   "id": "a02a8cda-c75a-4eeb-acc1-a98847333bba",
   "metadata": {},
   "outputs": [],
   "source": [
    "#type your answer here"
   ]
  },
  {
   "cell_type": "markdown",
   "id": "4e2ce956",
   "metadata": {},
   "source": [
    "## Median Average Calculation Section\n",
    "\n",
    "A **median** is the middle value in an ordered or sorted list.\n",
    "\n",
    "Use the sorted() built-in function to sort a list\n",
    "\n",
    "*Example:*\n",
    "\n",
    "x = sorted([100, 2, 6, 10, 4])\n",
    "\n",
    "print (x)\n",
    "\n",
    "The output will be the same list but in numerical order.\n",
    "\n",
    "A Data Set can have: \n",
    "\n",
    "1. **Odd Number** of entries: Median is the middle data entry\n",
    "2. **Even Number** of entries: Median is the mean of the two middle data entries\n",
    "\n",
    "sample = [25,34, 100, 900, 200, 50]\n",
    "<br>\n",
    "print(sample)\n",
    "\n",
    "Now we will practice finding the median for a list with an odd number of entries.\n",
    "<div class=\"alert alert-info\"> \n",
    "<b>For the given list, output the sorted list using the sorted() built-in function AND the median value below</b>\n",
    "</div>\n",
    "\n",
    "sample = [25, 34, 1000, 200, 50]"
   ]
  },
  {
   "cell_type": "code",
   "execution_count": 17,
   "id": "3115789e",
   "metadata": {},
   "outputs": [],
   "source": [
    "#Type your answer here"
   ]
  },
  {
   "cell_type": "markdown",
   "id": "26c7fd4c-0323-44cc-be5b-5395840cc012",
   "metadata": {},
   "source": [
    "<div class=\"alert alert-info\"> \n",
    "<b>For the given list, output the sorted list using the sorted() built-in function AND the median value below</b>\n",
    "</div>\n",
    "\n",
    "sample_2 = [-166.0, 1000.67, 5000.23, 98753.5, -1150.98, 230.2, 1.5]\n",
    "\n",
    "print(sample_2)"
   ]
  },
  {
   "cell_type": "code",
   "execution_count": null,
   "id": "23fe6de4-6e26-44c6-a833-4d4affcc1d08",
   "metadata": {},
   "outputs": [],
   "source": [
    "#Type your answer here"
   ]
  }
 ],
 "metadata": {
  "kernelspec": {
   "display_name": "Python 3 (ipykernel)",
   "language": "python",
   "name": "python3"
  },
  "language_info": {
   "codemirror_mode": {
    "name": "ipython",
    "version": 3
   },
   "file_extension": ".py",
   "mimetype": "text/x-python",
   "name": "python",
   "nbconvert_exporter": "python",
   "pygments_lexer": "ipython3",
   "version": "3.12.5"
  }
 },
 "nbformat": 4,
 "nbformat_minor": 5
}
