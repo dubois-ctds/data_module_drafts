{
 "cells": [
  {
   "cell_type": "markdown",
   "metadata": {
    "id": "7GGrFZ3i3xwJ"
   },
   "source": [
    "<hr style=\"border: 5px solid #003262;\" />\n",
    "<hr style=\"border: 1px solid #fdb515;\" />\n",
    "\n",
    "# Module A HW 1 Draft\n",
    "Version: August 20th, 2025\n",
    "\n",
    "This homework assignment focuses on 3 aspects of coding:\n",
    "\n",
    "1. Primitive Data Types\n",
    "2. Variables\n",
    "3. Built-in Functions\n",
    "\n"
   ]
  },
  {
   "cell_type": "markdown",
   "metadata": {
    "id": "RKp2DzARqBx9"
   },
   "source": [
    "<hr style=\"border: 1px solid #fdb515;\" />\n",
    "\n",
    "## Part A: Variables\n",
    "\n",
    "To get familiar with variables, we are going to create a profile that contains information about you through storing information through variables."
   ]
  },
  {
   "cell_type": "markdown",
   "metadata": {
    "id": "a5mXeQqhqEPJ"
   },
   "source": [
    "<div class=\"alert alert-info\">\n",
    "<b>Question 1:</b> Let's make our profile by assigning values to variables! For refreshers, you can look back on our lecture content.\n",
    "</div>"
   ]
  },
  {
   "cell_type": "code",
   "execution_count": null,
   "metadata": {
    "id": "9MpITO9jjQwF"
   },
   "outputs": [],
   "source": [
    "# Fill out the ... part with your information.\n",
    "# If you do not fill comfortable sharing your profile, you can make up a profile.\n",
    "\n",
    "name = ...\n",
    "age = ...\n",
    "city = ...\n",
    "state = ...\n",
    "\n",
    "# These variables are checking whether you are a student/have a job right now, what data type would work best?\n",
    "student = ...\n",
    "job = ..."
   ]
  },
  {
   "attachments": {},
   "cell_type": "markdown",
   "metadata": {},
   "source": [
    "<div class=\"alert alert-info\">\n",
    "<b>Question 2:</b> Use the print() built-in function to output the values assigned to the variables.\n",
    "</div>\n",
    "\n",
    "<details>\n",
    "    <summary>Sample Output: </summary>\n",
    "    <img src=\"https://github.com/dubois-ctds/data_module_drafts/blob/main/homeworks/HW01/images/Q2_edited.png?raw=true\" width=\"1000\"/>\n",
    "</details>\n"
   ]
  },
  {
   "cell_type": "code",
   "execution_count": null,
   "metadata": {},
   "outputs": [],
   "source": [
    "#Type your answer here"
   ]
  },
  {
   "cell_type": "markdown",
   "metadata": {
    "id": "Et30TPMhqGjL"
   },
   "source": [
    "<hr style=\"border: 1px solid #fdb515;\" />\n",
    "\n",
    "## Part B: Data Type"
   ]
  },
  {
   "cell_type": "markdown",
   "metadata": {
    "id": "XT7XGt_6mQlp"
   },
   "source": [
    "Now let's try to understand data types of these variables. For each question, assign your answer from the multiple choice in a string format.\n",
    "\n",
    "        Example) What is a cat?\n",
    "        1.   A feline species\n",
    "        2.   A human\n",
    "        3.   An alien\n",
    "\n",
    "        answer = \"1\"\n"
   ]
  },
  {
   "cell_type": "markdown",
   "metadata": {
    "id": "b9VnJKS8oBLC"
   },
   "source": [
    "<div class=\"alert alert-info\">\n",
    "<b>Question 3:</b> What is the data type of `name`?\n",
    "\n",
    "  1.   Integers\n",
    "  2.   Floats\n",
    "  3.   Strings\n",
    "  4.   Booleans\n",
    "  5.   None\n",
    "</div>"
   ]
  },
  {
   "cell_type": "code",
   "execution_count": null,
   "metadata": {
    "id": "IiuAjeSvqJZU"
   },
   "outputs": [],
   "source": [
    "answer_3 = ..."
   ]
  },
  {
   "cell_type": "markdown",
   "metadata": {
    "id": "RtA5iPGpvR0i"
   },
   "source": [
    "<div class=\"alert alert-info\">\n",
    "<b>Question 4:</b> What is the data type of `age`?\n",
    "\n",
    "  1.   Integers\n",
    "  2.   Floats\n",
    "  3.   Strings\n",
    "  4.   Booleans\n",
    "  5.   None\n",
    "</div>"
   ]
  },
  {
   "cell_type": "code",
   "execution_count": null,
   "metadata": {
    "id": "tQk3rBtewcq-"
   },
   "outputs": [],
   "source": [
    "answer_4 = ..."
   ]
  },
  {
   "cell_type": "markdown",
   "metadata": {},
   "source": [
    "<div class=\"alert alert-info\">\n",
    "<b>Question 5:</b> List all the variables that are strings:\n",
    "\n",
    "<ul>\n",
    "    <li>name</li>\n",
    "    <li>age</li>\n",
    "    <li>city</li>\n",
    "    <li>state</li>\n",
    "    <li>student</li>\n",
    "    <li>job</li>\n",
    "</ul>"
   ]
  },
  {
   "cell_type": "markdown",
   "metadata": {},
   "source": [
    "*Type your answer here*"
   ]
  },
  {
   "cell_type": "markdown",
   "metadata": {
    "id": "FQQ8qCcxDepY"
   },
   "source": [
    "<div class=\"alert alert-info\">\n",
    "<b>Question 6:</b> Where do you see yourself in 5 years? Let's create a profile of your future self.\n",
    "\n",
    "To do this, fill in where you see yourself in 5 years into the new variables listed below.\n",
    "</div>"
   ]
  },
  {
   "cell_type": "code",
   "execution_count": null,
   "metadata": {
    "id": "cfmKMIo3EUsg"
   },
   "outputs": [],
   "source": [
    "five_year_later_local = ...\n",
    "five_year_later_job = ..."
   ]
  },
  {
   "attachments": {},
   "cell_type": "markdown",
   "metadata": {},
   "source": [
    "<div class=\"alert alert-info\">\n",
    "Next, use the print() built-in function to output the values assigned to the variables.\n",
    "</div>\n",
    "<details>\n",
    "    <summary>Sample Output: </summary>\n",
    "    <img src=\"https://github.com/dubois-ctds/data_module_drafts/blob/main/homeworks/HW01/images/Q6_edited.png?raw=true\" width=\"1000\"/>\n",
    "</details>"
   ]
  },
  {
   "cell_type": "code",
   "execution_count": null,
   "metadata": {},
   "outputs": [],
   "source": [
    "#Type your answer here"
   ]
  },
  {
   "cell_type": "markdown",
   "metadata": {},
   "source": [
    "<hr style=\"border: 1px solid #fdb515;\" />\n",
    "\n",
    "## Part C: Arithmetic Operators"
   ]
  },
  {
   "cell_type": "markdown",
   "metadata": {
    "id": "zXlh4sWaEryZ"
   },
   "source": [
    "In python, we can use arithmetic operators to increase the value for age, meaning it isn't necessary to create a new variable!\n",
    "\n",
    "Make sure to use the previous variables from Question 1 in your updated profile print statement.\n",
    "\n",
    "<div class=\"alert alert-info\">\n",
    "<b>Question 7:</b> Repeat question 6 but include your age after 5 years in the updated portion of your printed statement.\n",
    "</div>\n",
    "\n",
    "<details>\n",
    "    <summary>Sample Output: </summary>\n",
    "    <img src=\"https://github.com/dubois-ctds/data_module_drafts/blob/main/homeworks/HW01/images/Q7_edited.png?raw=true\" width=\"1000\"/>\n",
    "</details>\n"
   ]
  },
  {
   "cell_type": "code",
   "execution_count": 1,
   "metadata": {
    "id": "P7qxPwsJEhpE"
   },
   "outputs": [],
   "source": [
    "#Type your answer here"
   ]
  },
  {
   "cell_type": "markdown",
   "metadata": {},
   "source": [
    "<hr style=\"border: 1px solid #fdb515;\" />\n",
    "\n",
    "## Part D: Lists and Sorting\n",
    "\n",
    "An integral part of python programming is utilizing **lists** to store information, whether it be numerical or categorical."
   ]
  },
  {
   "cell_type": "markdown",
   "metadata": {},
   "source": [
    "<div class=\"alert alert-info\">\n",
    "<b>Question 8:</b> You are having a garage sale, and you need to keep track of the <b>clothes</b> you have that need to be sold. \n",
    "    \n",
    "Create a list named <b>clothes</b>, which has the following items: <i>shirts, pants, shorts, jackets, and hats</i>"
   ]
  },
  {
   "cell_type": "code",
   "execution_count": null,
   "metadata": {},
   "outputs": [],
   "source": [
    "#Type your answer here"
   ]
  },
  {
   "cell_type": "markdown",
   "metadata": {},
   "source": [
    "<div class=\"alert alert-info\">\n",
    "<b>Question 9:</b> Now, create anohter list called <b>inventory</b> which keeps track of just the number of each clothing item you have: 7 shirts, 4 pants, 2 shorts, 5 jackets, and 3 hats."
   ]
  },
  {
   "cell_type": "code",
   "execution_count": null,
   "metadata": {},
   "outputs": [],
   "source": [
    "#Type your answer here"
   ]
  },
  {
   "cell_type": "markdown",
   "metadata": {},
   "source": [
    "<div class=\"alert alert-info\">\n",
    "<b>Question 9:</b> How many total items of clothing are you selling?\n",
    "\n",
    "<i>Hint: Use the sum() function!</i>\n",
    "</div>"
   ]
  },
  {
   "cell_type": "code",
   "execution_count": null,
   "metadata": {},
   "outputs": [],
   "source": [
    "#Type your answer here"
   ]
  },
  {
   "cell_type": "markdown",
   "metadata": {},
   "source": [
    "<div class=\"alert alert-info\">\n",
    "<b>Question 10:</b> Output the sorted inventory list using a built-in function.\n",
    "    \n",
    "(Sort the inventory list by name alphabetically)\n",
    "</div>"
   ]
  },
  {
   "cell_type": "code",
   "execution_count": 2,
   "metadata": {},
   "outputs": [],
   "source": [
    "#Type your answer here"
   ]
  },
  {
   "cell_type": "code",
   "execution_count": null,
   "metadata": {},
   "outputs": [],
   "source": []
  }
 ],
 "metadata": {
  "colab": {
   "collapsed_sections": [
    "Et30TPMhqGjL"
   ],
   "provenance": []
  },
  "kernelspec": {
   "display_name": "Python 3 (ipykernel)",
   "language": "python",
   "name": "python3"
  },
  "language_info": {
   "codemirror_mode": {
    "name": "ipython",
    "version": 3
   },
   "file_extension": ".py",
   "mimetype": "text/x-python",
   "name": "python",
   "nbconvert_exporter": "python",
   "pygments_lexer": "ipython3",
   "version": "3.12.5"
  }
 },
 "nbformat": 4,
 "nbformat_minor": 4
}
